{
  "cells": [
    {
      "cell_type": "markdown",
      "metadata": {
        "id": "view-in-github",
        "colab_type": "text"
      },
      "source": [
        "<a href=\"https://colab.research.google.com/github/Gwan98/Project/blob/main/StrongSORT.ipynb\" target=\"_parent\"><img src=\"https://colab.research.google.com/assets/colab-badge.svg\" alt=\"Open In Colab\"/></a>"
      ]
    },
    {
      "cell_type": "code",
      "execution_count": null,
      "metadata": {
        "colab": {
          "base_uri": "https://localhost:8080/"
        },
        "id": "zZB1zjr787JW",
        "outputId": "f83a8c1d-714a-4500-b6b6-f9af0715c7f9"
      },
      "outputs": [
        {
          "output_type": "stream",
          "name": "stdout",
          "text": [
            "Mounted at /content/gdrive\n"
          ]
        }
      ],
      "source": [
        "from google.colab import drive\n",
        "\n",
        "drive.mount(\"/content/gdrive\")"
      ]
    },
    {
      "cell_type": "code",
      "execution_count": null,
      "metadata": {
        "colab": {
          "base_uri": "https://localhost:8080/"
        },
        "id": "edv3wr9t87pB",
        "outputId": "53ae924e-189a-48e5-bd22-37db59b875fc"
      },
      "outputs": [
        {
          "output_type": "stream",
          "name": "stdout",
          "text": [
            "/content/gdrive/MyDrive\n"
          ]
        }
      ],
      "source": [
        "%cd /content/gdrive/MyDrive"
      ]
    },
    {
      "cell_type": "code",
      "execution_count": null,
      "metadata": {
        "id": "EwJRwlHr89Cn"
      },
      "outputs": [],
      "source": [
        "import os\n",
        "\n",
        "if not os.path.isdir(\"DeepSORT\"):\n",
        "  os.makedirs(\"DeepSORT\")"
      ]
    },
    {
      "cell_type": "code",
      "execution_count": null,
      "metadata": {
        "id": "4Jp8Q_Fz9CQd",
        "colab": {
          "base_uri": "https://localhost:8080/"
        },
        "outputId": "ccb9bbb1-68df-4c22-ae04-c6bdf1f9a9ef"
      },
      "outputs": [
        {
          "output_type": "stream",
          "name": "stdout",
          "text": [
            "/content/gdrive/MyDrive/DeepSORT\n"
          ]
        }
      ],
      "source": [
        "%cd DeepSORT"
      ]
    },
    {
      "cell_type": "code",
      "execution_count": null,
      "metadata": {
        "id": "GO9iDBUR9Phg",
        "colab": {
          "base_uri": "https://localhost:8080/"
        },
        "outputId": "e48a5c0f-0712-4c0b-cb86-8da75bb42976"
      },
      "outputs": [
        {
          "output_type": "stream",
          "name": "stdout",
          "text": [
            "fatal: destination path 'Yolov5_StrongSORT_OSNet' already exists and is not an empty directory.\n",
            "\u001b[31mERROR: Could not open requirements file: [Errno 2] No such file or directory: 'requirements.txt'\u001b[0m\u001b[31m\n",
            "\u001b[0m"
          ]
        }
      ],
      "source": [
        "!git clone --recurse-submodules https://github.com/mikel-brostrom/Yolov5_StrongSORT_OSNet.git  # clone repo\n",
        "%pip install -qr requirements.txt  # install dependencies"
      ]
    },
    {
      "cell_type": "code",
      "execution_count": null,
      "metadata": {
        "id": "XdOvt4p8Oi91",
        "colab": {
          "base_uri": "https://localhost:8080/"
        },
        "outputId": "e777a8b1-89eb-4146-8d66-b72b8713b656"
      },
      "outputs": [
        {
          "output_type": "stream",
          "name": "stdout",
          "text": [
            "Setup complete. Using torch 2.0.0+cu118 (Tesla T4)\n"
          ]
        }
      ],
      "source": [
        "import torch\n",
        "from IPython.display import Image, clear_output  # to display images\n",
        "\n",
        "clear_output()\n",
        "print(f\"Setup complete. Using torch {torch.__version__} ({torch.cuda.get_device_properties(0).name if torch.cuda.is_available() else 'CPU'})\")"
      ]
    },
    {
      "cell_type": "code",
      "execution_count": null,
      "metadata": {
        "id": "fvA5Ib1zQDsk",
        "colab": {
          "base_uri": "https://localhost:8080/"
        },
        "outputId": "2d264a7c-bfcb-41eb-def7-e867d841969e"
      },
      "outputs": [
        {
          "output_type": "stream",
          "name": "stdout",
          "text": [
            "/content/gdrive/MyDrive/DeepSORT/Yolov5_StrongSORT_OSNet\n",
            "File ‘test.avi’ already there; not retrieving.\n",
            "\n",
            "ffmpeg version 4.2.7-0ubuntu0.1 Copyright (c) 2000-2022 the FFmpeg developers\n",
            "  built with gcc 9 (Ubuntu 9.4.0-1ubuntu1~20.04.1)\n",
            "  configuration: --prefix=/usr --extra-version=0ubuntu0.1 --toolchain=hardened --libdir=/usr/lib/x86_64-linux-gnu --incdir=/usr/include/x86_64-linux-gnu --arch=amd64 --enable-gpl --disable-stripping --enable-avresample --disable-filter=resample --enable-avisynth --enable-gnutls --enable-ladspa --enable-libaom --enable-libass --enable-libbluray --enable-libbs2b --enable-libcaca --enable-libcdio --enable-libcodec2 --enable-libflite --enable-libfontconfig --enable-libfreetype --enable-libfribidi --enable-libgme --enable-libgsm --enable-libjack --enable-libmp3lame --enable-libmysofa --enable-libopenjpeg --enable-libopenmpt --enable-libopus --enable-libpulse --enable-librsvg --enable-librubberband --enable-libshine --enable-libsnappy --enable-libsoxr --enable-libspeex --enable-libssh --enable-libtheora --enable-libtwolame --enable-libvidstab --enable-libvorbis --enable-libvpx --enable-libwavpack --enable-libwebp --enable-libx265 --enable-libxml2 --enable-libxvid --enable-libzmq --enable-libzvbi --enable-lv2 --enable-omx --enable-openal --enable-opencl --enable-opengl --enable-sdl2 --enable-libdc1394 --enable-libdrm --enable-libiec61883 --enable-nvenc --enable-chromaprint --enable-frei0r --enable-libx264 --enable-shared\n",
            "  libavutil      56. 31.100 / 56. 31.100\n",
            "  libavcodec     58. 54.100 / 58. 54.100\n",
            "  libavformat    58. 29.100 / 58. 29.100\n",
            "  libavdevice    58.  8.100 / 58.  8.100\n",
            "  libavfilter     7. 57.100 /  7. 57.100\n",
            "  libavresample   4.  0.  0 /  4.  0.  0\n",
            "  libswscale      5.  5.100 /  5.  5.100\n",
            "  libswresample   3.  5.100 /  3.  5.100\n",
            "  libpostproc    55.  5.100 / 55.  5.100\n",
            "Input #0, matroska,webm, from 'test.avi':\n",
            "  Metadata:\n",
            "    COMPATIBLE_BRANDS: isomiso2mp41\n",
            "    MAJOR_BRAND     : isom\n",
            "    MINOR_VERSION   : 512\n",
            "    ENCODER         : Lavf57.83.100\n",
            "  Duration: 00:00:35.00, start: 0.000000, bitrate: 1164 kb/s\n",
            "    Stream #0:0: Video: vp9 (Profile 0), yuv420p(tv, progressive), 960x540, SAR 1:1 DAR 16:9, 30 fps, 30 tbr, 1k tbn, 1k tbc (default)\n",
            "    Metadata:\n",
            "      HANDLER_NAME    : VideoHandler\n",
            "      ENCODER         : Lavc57.107.100 libvpx-vp9\n",
            "      DURATION        : 00:00:35.000000000\n",
            "File 'out.avi' already exists. Overwrite ? [y/N] Stream mapping:\n",
            "  Stream #0:0 -> #0:0 (vp9 (native) -> mpeg4 (native))\n",
            "Press [q] to stop, [?] for help\n",
            "Output #0, avi, to 'out.avi':\n",
            "  Metadata:\n",
            "    COMPATIBLE_BRANDS: isomiso2mp41\n",
            "    MAJOR_BRAND     : isom\n",
            "    MINOR_VERSION   : 512\n",
            "    ISFT            : Lavf58.29.100\n",
            "    Stream #0:0: Video: mpeg4 (FMP4 / 0x34504D46), yuv420p, 960x540 [SAR 1:1 DAR 16:9], q=2-31, 200 kb/s, 30 fps, 30 tbn, 30 tbc (default)\n",
            "    Metadata:\n",
            "      HANDLER_NAME    : VideoHandler\n",
            "      DURATION        : 00:00:35.000000000\n",
            "      encoder         : Lavc58.54.100 mpeg4\n",
            "    Side data:\n",
            "      cpb: bitrate max/min/avg: 0/0/200000 buffer size: 0 vbv_delay: -1\n",
            "frame=   30 fps=0.0 q=18.0 Lsize=     129kB time=00:00:01.00 bitrate=1055.1kbits/s speed=6.75x    \n",
            "video:122kB audio:0kB subtitle:0kB other streams:0kB global headers:0kB muxing overhead: 5.182988%\n"
          ]
        }
      ],
      "source": [
        "%cd Yolov5_StrongSORT_OSNet\n",
        "\n",
        "# get the test video from the repo\n",
        "!wget -nc https://github.com/mikel-brostrom/Yolov5_StrongSORT_OSNet/releases/download/v.2.0/test.avi\n",
        "# extract 3 seconds worth of video frames of it\n",
        "!yes | ffmpeg -ss 00:00:00 -i test.avi -t 00:00:01 -vf fps=30 out.avi"
      ]
    },
    {
      "cell_type": "code",
      "execution_count": null,
      "metadata": {
        "id": "xY4brQbHQHfz",
        "colab": {
          "base_uri": "https://localhost:8080/"
        },
        "outputId": "62e0ecd2-9aa3-4612-fdb3-5f62cb02386c"
      },
      "outputs": [
        {
          "output_type": "stream",
          "name": "stdout",
          "text": [
            "[Errno 2] No such file or directory: 'Yolov5_StrongSORT_OSNet'\n",
            "/content/gdrive/MyDrive/DeepSORT/Yolov5_StrongSORT_OSNet\n",
            "File ‘test.avi’ already there; not retrieving.\n",
            "\n",
            "ffmpeg version 4.2.7-0ubuntu0.1 Copyright (c) 2000-2022 the FFmpeg developers\n",
            "  built with gcc 9 (Ubuntu 9.4.0-1ubuntu1~20.04.1)\n",
            "  configuration: --prefix=/usr --extra-version=0ubuntu0.1 --toolchain=hardened --libdir=/usr/lib/x86_64-linux-gnu --incdir=/usr/include/x86_64-linux-gnu --arch=amd64 --enable-gpl --disable-stripping --enable-avresample --disable-filter=resample --enable-avisynth --enable-gnutls --enable-ladspa --enable-libaom --enable-libass --enable-libbluray --enable-libbs2b --enable-libcaca --enable-libcdio --enable-libcodec2 --enable-libflite --enable-libfontconfig --enable-libfreetype --enable-libfribidi --enable-libgme --enable-libgsm --enable-libjack --enable-libmp3lame --enable-libmysofa --enable-libopenjpeg --enable-libopenmpt --enable-libopus --enable-libpulse --enable-librsvg --enable-librubberband --enable-libshine --enable-libsnappy --enable-libsoxr --enable-libspeex --enable-libssh --enable-libtheora --enable-libtwolame --enable-libvidstab --enable-libvorbis --enable-libvpx --enable-libwavpack --enable-libwebp --enable-libx265 --enable-libxml2 --enable-libxvid --enable-libzmq --enable-libzvbi --enable-lv2 --enable-omx --enable-openal --enable-opencl --enable-opengl --enable-sdl2 --enable-libdc1394 --enable-libdrm --enable-libiec61883 --enable-nvenc --enable-chromaprint --enable-frei0r --enable-libx264 --enable-shared\n",
            "  libavutil      56. 31.100 / 56. 31.100\n",
            "  libavcodec     58. 54.100 / 58. 54.100\n",
            "  libavformat    58. 29.100 / 58. 29.100\n",
            "  libavdevice    58.  8.100 / 58.  8.100\n",
            "  libavfilter     7. 57.100 /  7. 57.100\n",
            "  libavresample   4.  0.  0 /  4.  0.  0\n",
            "  libswscale      5.  5.100 /  5.  5.100\n",
            "  libswresample   3.  5.100 /  3.  5.100\n",
            "  libpostproc    55.  5.100 / 55.  5.100\n",
            "Input #0, matroska,webm, from 'test.avi':\n",
            "  Metadata:\n",
            "    COMPATIBLE_BRANDS: isomiso2mp41\n",
            "    MAJOR_BRAND     : isom\n",
            "    MINOR_VERSION   : 512\n",
            "    ENCODER         : Lavf57.83.100\n",
            "  Duration: 00:00:35.00, start: 0.000000, bitrate: 1164 kb/s\n",
            "    Stream #0:0: Video: vp9 (Profile 0), yuv420p(tv, progressive), 960x540, SAR 1:1 DAR 16:9, 30 fps, 30 tbr, 1k tbn, 1k tbc (default)\n",
            "    Metadata:\n",
            "      HANDLER_NAME    : VideoHandler\n",
            "      ENCODER         : Lavc57.107.100 libvpx-vp9\n",
            "      DURATION        : 00:00:35.000000000\n",
            "File 'out.avi' already exists. Overwrite ? [y/N] Stream mapping:\n",
            "  Stream #0:0 -> #0:0 (vp9 (native) -> mpeg4 (native))\n",
            "Press [q] to stop, [?] for help\n",
            "Output #0, avi, to 'out.avi':\n",
            "  Metadata:\n",
            "    COMPATIBLE_BRANDS: isomiso2mp41\n",
            "    MAJOR_BRAND     : isom\n",
            "    MINOR_VERSION   : 512\n",
            "    ISFT            : Lavf58.29.100\n",
            "    Stream #0:0: Video: mpeg4 (FMP4 / 0x34504D46), yuv420p, 960x540 [SAR 1:1 DAR 16:9], q=2-31, 200 kb/s, 30 fps, 30 tbn, 30 tbc (default)\n",
            "    Metadata:\n",
            "      HANDLER_NAME    : VideoHandler\n",
            "      DURATION        : 00:00:35.000000000\n",
            "      encoder         : Lavc58.54.100 mpeg4\n",
            "    Side data:\n",
            "      cpb: bitrate max/min/avg: 0/0/200000 buffer size: 0 vbv_delay: -1\n",
            "frame=   30 fps=0.0 q=18.0 Lsize=     129kB time=00:00:01.00 bitrate=1055.1kbits/s speed=4.82x    \n",
            "video:122kB audio:0kB subtitle:0kB other streams:0kB global headers:0kB muxing overhead: 5.182988%\n"
          ]
        }
      ],
      "source": [
        "%cd Yolov5_StrongSORT_OSNet\n",
        "\n",
        "# get the test video from the repo\n",
        "!wget -nc https://github.com/mikel-brostrom/Yolov5_StrongSORT_OSNet/releases/download/v.2.0/test.avi\n",
        "# extract 3 seconds worth of video frames of it\n",
        "!yes | ffmpeg -ss 00:00:00 -i test.avi -t 00:00:01 -vf fps=30 out.avi"
      ]
    },
    {
      "cell_type": "code",
      "execution_count": null,
      "metadata": {
        "id": "rj8nW6BmQU12",
        "colab": {
          "base_uri": "https://localhost:8080/",
          "height": 35
        },
        "outputId": "62db8f6d-2dcc-4e64-bc0b-e10514b01044"
      },
      "outputs": [
        {
          "output_type": "execute_result",
          "data": {
            "text/plain": [
              "'/content/gdrive/MyDrive/DeepSORT/Yolov5_StrongSORT_OSNet'"
            ],
            "application/vnd.google.colaboratory.intrinsic+json": {
              "type": "string"
            }
          },
          "metadata": {},
          "execution_count": 9
        }
      ],
      "source": [
        "pwd"
      ]
    },
    {
      "cell_type": "code",
      "execution_count": null,
      "metadata": {
        "id": "9YXcToaidWjx",
        "colab": {
          "base_uri": "https://localhost:8080/"
        },
        "outputId": "e3fdde94-af23-4a79-f2fb-9c49c50886e5"
      },
      "outputs": [
        {
          "output_type": "stream",
          "name": "stdout",
          "text": [
            "Looking in indexes: https://pypi.org/simple, https://us-python.pkg.dev/colab-wheels/public/simple/\n",
            "Collecting cython_bbox\n",
            "  Downloading cython_bbox-0.1.3.tar.gz (41 kB)\n",
            "\u001b[2K     \u001b[90m━━━━━━━━━━━━━━━━━━━━━━━━━━━━━━━━━━━━━━━━\u001b[0m \u001b[32m41.3/41.3 kB\u001b[0m \u001b[31m3.1 MB/s\u001b[0m eta \u001b[36m0:00:00\u001b[0m\n",
            "\u001b[?25h  Preparing metadata (setup.py) ... \u001b[?25l\u001b[?25hdone\n",
            "Building wheels for collected packages: cython_bbox\n",
            "  Building wheel for cython_bbox (setup.py) ... \u001b[?25l\u001b[?25hdone\n",
            "  Created wheel for cython_bbox: filename=cython_bbox-0.1.3-cp39-cp39-linux_x86_64.whl size=66785 sha256=cd1dc1e75d42625ca5b9d46fa1544755be387c52f3adde11f9e831387d695f6f\n",
            "  Stored in directory: /root/.cache/pip/wheels/a6/a9/bc/51e2033272699c7879a142c483d1ef74291b1f3185f450f480\n",
            "Successfully built cython_bbox\n",
            "Installing collected packages: cython_bbox\n",
            "Successfully installed cython_bbox-0.1.3\n"
          ]
        }
      ],
      "source": [
        "pip install cython_bbox"
      ]
    },
    {
      "cell_type": "code",
      "execution_count": null,
      "metadata": {
        "id": "8RCdLpyfdHTX",
        "colab": {
          "base_uri": "https://localhost:8080/"
        },
        "outputId": "7eff9118-2c29-4ecb-ff56-386f6f2101aa"
      },
      "outputs": [
        {
          "output_type": "stream",
          "name": "stdout",
          "text": [
            "Looking in indexes: https://pypi.org/simple, https://us-python.pkg.dev/colab-wheels/public/simple/\n",
            "Collecting lap\n",
            "  Downloading lap-0.4.0.tar.gz (1.5 MB)\n",
            "\u001b[2K     \u001b[90m━━━━━━━━━━━━━━━━━━━━━━━━━━━━━━━━━━━━━━━━\u001b[0m \u001b[32m1.5/1.5 MB\u001b[0m \u001b[31m28.8 MB/s\u001b[0m eta \u001b[36m0:00:00\u001b[0m\n",
            "\u001b[?25h  Preparing metadata (setup.py) ... \u001b[?25l\u001b[?25hdone\n",
            "Building wheels for collected packages: lap\n",
            "  Building wheel for lap (setup.py) ... \u001b[?25l\u001b[?25hdone\n",
            "  Created wheel for lap: filename=lap-0.4.0-cp39-cp39-linux_x86_64.whl size=1655024 sha256=23264967f24e3392dc9fd0664763471ca7b28f7d778e1aa685cf3a93ca6c06d4\n",
            "  Stored in directory: /root/.cache/pip/wheels/2f/8b/30/e7dd4f9dc44fb438381df571c9a6bddc35aafd1bf39c4f8911\n",
            "Successfully built lap\n",
            "Installing collected packages: lap\n",
            "Successfully installed lap-0.4.0\n"
          ]
        }
      ],
      "source": [
        "pip install lap"
      ]
    },
    {
      "cell_type": "code",
      "execution_count": null,
      "metadata": {
        "id": "CKssemUgh5u-",
        "colab": {
          "base_uri": "https://localhost:8080/"
        },
        "outputId": "ae026ac6-d238-4673-eca8-f47fd8ef5bfa"
      },
      "outputs": [
        {
          "output_type": "stream",
          "name": "stdout",
          "text": [
            "Looking in indexes: https://pypi.org/simple, https://us-python.pkg.dev/colab-wheels/public/simple/\n",
            "Requirement already satisfied: opencv-python in /usr/local/lib/python3.9/dist-packages (4.7.0.72)\n",
            "Requirement already satisfied: numpy>=1.17.0 in /usr/local/lib/python3.9/dist-packages (from opencv-python) (1.22.4)\n"
          ]
        }
      ],
      "source": [
        "pip install opencv-python"
      ]
    },
    {
      "cell_type": "code",
      "execution_count": null,
      "metadata": {
        "id": "cd9omTomQbEU",
        "colab": {
          "base_uri": "https://localhost:8080/"
        },
        "outputId": "4125bd3e-2c32-4f85-ae15-816a2183c08a"
      },
      "outputs": [
        {
          "output_type": "stream",
          "name": "stdout",
          "text": [
            "default message here: Expected end or semicolon (after name and no valid version specifier)\n",
            "    git+https://github.com/samson-wang/cython_bbox.git@9badb346a9222c98f828ba45c63fe3b7f2790ea2\n",
            "       ^\n",
            "Traceback (most recent call last):\n",
            "  File \"/content/gdrive/MyDrive/DeepSORT/Yolov5_StrongSORT_OSNet/track_2.py\", line 307, in <module>\n",
            "    main(opt)\n",
            "  File \"/content/gdrive/MyDrive/DeepSORT/Yolov5_StrongSORT_OSNet/track_2.py\", line 302, in main\n",
            "    run(**vars(opt))\n",
            "  File \"/usr/local/lib/python3.9/dist-packages/torch/utils/_contextlib.py\", line 115, in decorate_context\n",
            "    return func(*args, **kwargs)\n",
            "  File \"/content/gdrive/MyDrive/DeepSORT/Yolov5_StrongSORT_OSNet/track_2.py\", line 96, in run\n",
            "    model = DetectMultiBackend(yolo_weights, device=device, dnn=dnn, data=None, fp16=half)\n",
            "  File \"/content/gdrive/MyDrive/DeepSORT/Yolov5_StrongSORT_OSNet/yolov5/models/common.py\", line 325, in __init__\n",
            "    pt, jit, onnx, xml, engine, coreml, saved_model, pb, tflite, edgetpu, tfjs = self._model_type(w)  # get backend\n",
            "  File \"/content/gdrive/MyDrive/DeepSORT/Yolov5_StrongSORT_OSNet/yolov5/models/common.py\", line 543, in _model_type\n",
            "    check_suffix(p, suffixes)  # checks\n",
            "  File \"/content/gdrive/MyDrive/DeepSORT/Yolov5_StrongSORT_OSNet/yolov5/utils/general.py\", line 418, in check_suffix\n",
            "    assert s in suffix, f\"{msg}{f} acceptable suffix is {suffix}\"\n",
            "AssertionError: escooter_detector_model.h5 acceptable suffix is ['.pt', '.torchscript', '.onnx', '_openvino_model', '.engine', '.mlmodel', '_saved_model', '.pb', '.tflite', '_edgetpu.tflite', '_web_model', '.xml']\n"
          ]
        }
      ],
      "source": [
        "!python track_2.py --yolo-weights best_s.pt --reid-weights osnet_x0_25_msmt17.pt --source es_sample.mp4  --line-thickness 5 --conf-thres 0.7 --iou-thres 0.5 \n",
        "--save-vid --save-txt"
      ]
    },
    {
      "cell_type": "code",
      "execution_count": null,
      "metadata": {
        "id": "QWdBKCZ9iHxo"
      },
      "outputs": [],
      "source": [
        "# !python detect_or_track.py --weights best.pt --no-trace --view-img --nosave --source street.mp4"
      ]
    }
  ],
  "metadata": {
    "accelerator": "GPU",
    "colab": {
      "provenance": [],
      "mount_file_id": "16fEgIJ1ewgVfzFAwDYpX4sd7w6pLxQou",
      "authorship_tag": "ABX9TyNevZP5j5uIljiBd7tpJIsn",
      "include_colab_link": true
    },
    "gpuClass": "standard",
    "kernelspec": {
      "display_name": "Python 3",
      "name": "python3"
    },
    "language_info": {
      "name": "python"
    }
  },
  "nbformat": 4,
  "nbformat_minor": 0
}